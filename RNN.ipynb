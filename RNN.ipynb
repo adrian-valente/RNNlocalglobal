{
 "cells": [
  {
   "cell_type": "code",
   "execution_count": 1,
   "metadata": {},
   "outputs": [],
   "source": [
    "import torch\n",
    "from torch import Tensor\n",
    "from torch.nn import Linear\n",
    "from torch.nn import ReLU\n",
    "from torch.nn import Tanh\n",
    "from torch.nn import Sigmoid\n",
    "from torch.nn import Module\n",
    "from torch.nn import Embedding \n",
    "from torch.optim import SGD,Adam\n",
    "from torch.nn import CrossEntropyLoss, BCELoss, MSELoss\n",
    "import matplotlib.pyplot as plt\n",
    "from sklearn.metrics import accuracy_score, mean_squared_error\n",
    "import numpy as np\n",
    "from numpy import vstack\n",
    "from torch.utils.data import random_split\n",
    "from torch.nn.init import kaiming_uniform_\n",
    "from torch.nn.init import xavier_uniform_\n",
    "import matplotlib\n",
    "matplotlib.rcParams['pdf.fonttype'] = 42\n",
    "matplotlib.rcParams['ps.fonttype'] = 42"
   ]
  },
  {
   "cell_type": "code",
   "execution_count": 2,
   "metadata": {},
   "outputs": [],
   "source": [
    "# model definition\n",
    "class RNN(Module):\n",
    "    # define model elements\n",
    "    # n_inputs: input dimension\n",
    "    # n_hidden: number of neurons per layer\n",
    "    # n_layers: number of hidden layers\n",
    "    def __init__(self, n_hidden, n_layers, input_dim, embedding_dim):\n",
    "        super(RNN, self).__init__()\n",
    "        \n",
    "        # hidden layers\n",
    "        #self.embed = Embedding(input_dim, embedding_dim) \n",
    "        self.hidden = {}\n",
    "        self.act = {}\n",
    "        for i in range(n_layers):\n",
    "            if i==0:\n",
    "                n_in = input_dim + n_hidden # embedding_dim + n_hidden\n",
    "            else:\n",
    "                n_in = n_hidden * 2\n",
    "            # input to hidden layer\n",
    "            self.hidden[i] = Linear(n_in, n_hidden)\n",
    "            kaiming_uniform_(self.hidden[i].weight, nonlinearity='relu')\n",
    "            # non-linearity\n",
    "            self.act[i] = Tanh() # or ReLu\n",
    "        \n",
    "        # output\n",
    "        self.out = Linear(n_hidden,input_dim) # dimension of output is 2\n",
    "        xavier_uniform_(self.out.weight)\n",
    "        #self.actout = Sigmoid()\n",
    "        \n",
    "        \n",
    "    # forward propagate input\n",
    "    def forward(self, X, hidden_layer):\n",
    "        n_layers = len(hidden_layer)\n",
    "        #idx = torch.argmax(X,-1)\n",
    "        #embedding = self.embed(idx)\n",
    "        for i in range(n_layers):\n",
    "            if i == 0:\n",
    "                # combine input with previous hidden\n",
    "                combined = torch.cat((X, hidden_layer[i]), 1)\n",
    "            else:\n",
    "                # combine previous hidden with hidden\n",
    "                combined = torch.cat((hidden_layer[i-1], hidden_layer[i]), 1)\n",
    "            # input to hidden layer\n",
    "            hidden_layer[i] = self.hidden[i](combined)\n",
    "            hidden_layer[i] = self.act[i](hidden_layer[i])\n",
    "            \n",
    "        ## output\n",
    "        output = self.out(hidden_layer[i])\n",
    "        #output = self.actout(output)\n",
    "\n",
    "        return output,hidden_layer"
   ]
  },
  {
   "cell_type": "code",
   "execution_count": 79,
   "metadata": {},
   "outputs": [],
   "source": [
    "# train the model\n",
    "def train_model(train_x,train_y, model):\n",
    "    n_layers = len(model.hidden)\n",
    "    n_hidden = model.hidden[0].weight.size()[0]\n",
    "    # define the optimization\n",
    "    criterion = MSELoss()\n",
    "    optimizer = Adam(model.parameters(), lr=0.05)\n",
    "    \n",
    "    # enumerate epochs\n",
    "    batch_size = train_x[0].size()[0]\n",
    "    all_loss = []\n",
    "    lossdiff = -1\n",
    "    epoch = 0\n",
    "    while lossdiff<0:\n",
    "        # enumerate batches (xx and xY batch)    \n",
    "        for xi,yi in zip(train_x,train_y):\n",
    "            # clear the gradients\n",
    "            optimizer.zero_grad()\n",
    "            # initialise hidden states\n",
    "            hi = {}\n",
    "            for k in range(n_layers):\n",
    "                hi[k] = torch.zeros((batch_size,n_hidden))\n",
    "            #loss = 0\n",
    "            for j in range(xi.size()[1]):\n",
    "                xij = xi[:,j,:]\n",
    "\n",
    "                # compute the model output\n",
    "                yhat,hi = model(xij,hi)\n",
    "                \n",
    "                for k in range(n_layers):\n",
    "                    hi[k] = hi[k].detach()\n",
    "            # calculate loss on last prediction\n",
    "            loss = criterion(yhat, yi)\n",
    "            loss.backward(retain_graph=True)\n",
    "            \n",
    "            # update model weights\n",
    "            optimizer.step()\n",
    "        \n",
    "        all_loss.append(loss.item())  \n",
    "        if epoch>5:\n",
    "            lossdiff = all_loss[-1]-np.mean(all_loss[-5:-1] )\n",
    "        epoch +=1\n",
    "    return all_loss\n",
    "\n",
    "# evaluate the model\n",
    "def evaluate_model(test_x,test_y, model):\n",
    "    \n",
    "    # this function returns the average accuracy on all input test sequences. One value per sequence\n",
    "    # For now, it skips the first  items\n",
    "    \n",
    "    \n",
    "    n_layers = len(model.hidden)\n",
    "    n_hidden = model.hidden[0].weight.size()[0]\n",
    "\n",
    "    batch_size = test_x[0].size()[0]\n",
    "    num_seq = len(test_x)\n",
    "    acc = []\n",
    "    rand_acc = []\n",
    "    for xi,yi in zip(test_x,test_y):\n",
    "        \n",
    "        # initialize hidden state\n",
    "        hi = {}\n",
    "        for k in range(n_layers):\n",
    "            hi[k] = torch.zeros((batch_size,n_hidden))\n",
    "\n",
    "        for j in range(xi.size()[1]):\n",
    "            xij = xi[:,j,:]\n",
    "            # compute the model output\n",
    "            yhat,hi = model(xij,hi)\n",
    "            \n",
    "        # round to class values: this is if output is classification\n",
    "        #yhat = np.argmax(yhat.detach().numpy(),-1)\n",
    "        # store\n",
    "        #acc.append(accuracy_score(yhat.detach().numpy(),yi))\n",
    "        \n",
    "        \n",
    "        # if regression:\n",
    "        yhat = yhat.detach().numpy()\n",
    "        acc.append(np.mean((yhat-yi.numpy())**2))\n",
    "\n",
    "    return acc \n",
    "\n",
    "def predict(x,model):\n",
    "    \n",
    "    n_layers = len(model.hidden)\n",
    "    n_hidden = model.hidden[0].weight.size()[0]\n",
    "\n",
    "    batch_size = x[0].size()[0]\n",
    "    y = []\n",
    "    h = []\n",
    "    c = []\n",
    "    for xi in x:\n",
    "        hi = {}\n",
    "        for k in range(n_layers):\n",
    "            hi[k] = torch.zeros((batch_size,n_hidden))\n",
    "        \n",
    "        for j in range(xi.size()[1]):\n",
    "            xij = xi[:,j,:]\n",
    "            # compute the model output\n",
    "            yhat,hi = model(xij,hi)\n",
    "            \n",
    "        yhat = yhat.detach().numpy() # predicted stimulus\n",
    "        #ci = np.round(yhat) != xij.detach().numpy()\n",
    "        ##print(np.sum(ci,1))\n",
    "        #ci =  ((np.sum(ci,1)==0)==False).astype(int) # predicted sameness 1=change, 0=same\n",
    "        y.append(yhat)\n",
    "        #c.append(ci)\n",
    "        h.append(hi)\n",
    "        \n",
    "    return y,h #,c\n"
   ]
  },
  {
   "cell_type": "markdown",
   "metadata": {},
   "source": [
    "Create input sequences"
   ]
  },
  {
   "cell_type": "code",
   "execution_count": 305,
   "metadata": {},
   "outputs": [],
   "source": [
    "def unique_pairs(dictionary):\n",
    "    '''\n",
    "    create matrix with unique pairs of (one-hot) vectors in dictionary\n",
    "    \n",
    "    dictionary: N x dimensionality; matrix of N (one-hot) vectors\n",
    "    '''\n",
    "    vecpairs = []\n",
    "    for i in range(dictionary.shape[0]):\n",
    "        for j in range(dictionary.shape[0]):\n",
    "            if i!=j:\n",
    "                vecpairs.append(np.vstack((dictionary[j,],dictionary[i,])))\n",
    "    vecpairs = np.array(vecpairs) \n",
    "    return vecpairs\n",
    "\n",
    "def unique_pairs_sequence(seq,repeats,pairs):\n",
    "    \n",
    "    '''\n",
    "    Create a structured sequence such as 010101, replacing 0 and 1 with (one-hot) vectors from dictionary\n",
    "    \n",
    "    batch_size: number of sequence samples with different value for 0 and 1\n",
    "    seq: list of sequence structures\n",
    "    repeats: repeats per sequence chunk (e.g. 4 = 4xsize of sequence chunk)\n",
    "    dictionary: matrix of (one-hot) vectors, shape: dic size X input size\n",
    "    '''\n",
    "    nseq = len(seq)\n",
    "    x = np.zeros((nseq))\n",
    "    input_size = pairs.shape[2]\n",
    "    batch_size = pairs.shape[0]\n",
    "    all_seq = []\n",
    "    seq_len = []\n",
    "    for s in seq:\n",
    "        \n",
    "        # pick value from dictionary:\n",
    "        a = []\n",
    "        b = []\n",
    "        for i in range(batch_size):\n",
    "            a.append(pairs[i,1,:]) # X\n",
    "            b.append(pairs[i,0,:]) # Y\n",
    "        a = np.array(a)\n",
    "        b = np.array(b)\n",
    "        # create sequence\n",
    "        sequence = []\n",
    "        for i,element in enumerate(s):\n",
    "            if element==0:\n",
    "                sequence.append(a)\n",
    "            elif element==1:\n",
    "                sequence.append(b)\n",
    "        sequence = np.array(sequence)\n",
    "         \n",
    "        sequence = np.swapaxes(sequence,0,1)\n",
    "        # add zero state\n",
    "        #sequence = np.concatenate((sequence,np.zeros((batch_size,1,input_size))),1)\n",
    "        out_sequence = sequence\n",
    "        for r in range(repeats-1):\n",
    "            # stack the sequence repeat times\n",
    "            out_sequence = np.concatenate((out_sequence,sequence),1)\n",
    "        all_seq.append(out_sequence)\n",
    "\n",
    "    return all_seq\n"
   ]
  },
  {
   "cell_type": "code",
   "execution_count": 306,
   "metadata": {
    "scrolled": true
   },
   "outputs": [
    {
     "data": {
      "image/png": "[encoded data removed]",
      "text/plain": [
       "<Figure size 432x288 with 1 Axes>"
      ]
     },
     "metadata": {},
     "output_type": "display_data"
    },
    {
     "name": "stdout",
     "output_type": "stream",
     "text": [
      "200 units per layer, 1 layer\n",
      "For sequence [0, 0], MSE is 0.09360827229296168\n",
      "For sequence [0, 1], MSE is 0.16768263851602871\n",
      "For sequence [0, 0, 0, 1], MSE is 0.23406837201780742\n",
      "For sequence [0, 0, 1, 1], MSE is 0.18326269139846166\n"
     ]
    },
    {
     "data": {
      "image/png": "[encoded data removed]",
      "text/plain": [
       "<Figure size 432x288 with 1 Axes>"
      ]
     },
     "metadata": {},
     "output_type": "display_data"
    },
    {
     "data": {
      "image/png": "[encoded data removed]",
      "text/plain": [
       "<Figure size 432x288 with 1 Axes>"
      ]
     },
     "metadata": {},
     "output_type": "display_data"
    },
    {
     "data": {
      "image/png": "[encoded data removed]",
      "text/plain": [
       "<Figure size 432x288 with 1 Axes>"
      ]
     },
     "metadata": {},
     "output_type": "display_data"
    },
    {
     "data": {
      "image/png": "[encoded data removed]",
      "text/plain": [
       "<Figure size 432x288 with 1 Axes>"
      ]
     },
     "metadata": {},
     "output_type": "display_data"
    }
   ],
   "source": [
    "seq = [[0,0,0,0],[0,0,0,1],[0,1,0,1],[0,0,1,1]] # sequence structures to be used\n",
    "seq_test = [[0,0],[0,1],[0,0,0,1],[0,0,1,1]]\n",
    "Nseq = len(seq_test)\n",
    "repeats = 10 # repeats per chunk in each sequence\n",
    "input_dim = [40] # dimensionality of the input\n",
    "dict_size = 10 # size of stimulus dictionary, can be input_size at max\n",
    "hidden = [200]\n",
    "layers = [1]\n",
    "\n",
    "#embedding_dim = 100\n",
    "\n",
    "# create matrix of stimulus\n",
    "#a = np.ones(input_size)\n",
    "#dictionary = np.diag(a)[:dict_size,:]\n",
    "\n",
    "\n",
    "\n",
    "\n",
    "ntrials = dict_size*dict_size - dict_size\n",
    "Ratio = np.zeros((len(input_dim),len(hidden),len(layers),len(test_sequence),ntrials))\n",
    "Acc = np.zeros((len(input_dim),len(hidden),len(layers),len(test_sequence),ntrials))\n",
    "for si,input_size in enumerate(input_dim):\n",
    "    # produce random stimuli:\n",
    "    dictionary = np.random.randn(dict_size,input_size) # use same size as for the one-hot encoding\n",
    "    \n",
    "    plt.imshow(dictionary)\n",
    "    plt.show()\n",
    "    \n",
    "    # get unique pairs of stimuli\n",
    "    pairs = unique_pairs(dictionary)\n",
    "    \n",
    "    # create training and test data\n",
    "    sequence = unique_pairs_sequence(seq,repeats,pairs)\n",
    "    test_sequence = unique_pairs_sequence(seq_test,repeats,pairs)\n",
    "    \n",
    "    for hi,n_hidden in enumerate(hidden):\n",
    "        for li,n_layers in enumerate(layers):\n",
    "            print('%s units per layer, %s layer'%(n_hidden,n_layers))\n",
    "            MSE = np.zeros((ntrials,len(test_sequence)))\n",
    "            Yhat = np.zeros((ntrials,len(test_sequence),input_size)) # store prediction here\n",
    "            Ytrue = np.zeros((ntrials,len(test_sequence),input_size)) # store ground truth\n",
    "            for k in range(ntrials):\n",
    "                trainind = np.delete(np.arange(ntrials),k)\n",
    "                train_x = []\n",
    "                test_x = []\n",
    "                train_y = []\n",
    "                test_y = []\n",
    "                # create data from numpy arrrays\n",
    "                for i in range(len(seq)):\n",
    "                    train_x.append(torch.Tensor(sequence[i][trainind,:-1,:])) #!!-1 if no zero element after each chunk, otherwise -2\n",
    "                    train_y.append(torch.Tensor(sequence[i][trainind,-1,:]))\n",
    "                \n",
    "                for i in range(Nseq):\n",
    "                    test_x.append(torch.Tensor(test_sequence[i][k:k+1,:-1,:]))\n",
    "                    test_y.append(torch.Tensor(test_sequence[i][k:k+1,-1,:]))\n",
    "            \n",
    "                # train network\n",
    "                model = RNN(n_hidden,n_layers,input_size,embedding_dim)\n",
    "                Loss = train_model(train_x,train_y, model)\n",
    "                #plt.figure()\n",
    "                #plt.plot(Loss)\n",
    "                #plt.show()\n",
    "                # evaluate\n",
    "                mse = evaluate_model(test_x,test_y, model)\n",
    "                y,_ = predict(test_x,model)\n",
    "                \n",
    "                for i in range(Nseq):\n",
    "                    MSE[k,i] = mse[i]\n",
    "                    Yhat[k,i,:] = y[i][0,:] # hard coded!, works only if output 1 sample\n",
    "                    Ytrue[k,i,:] = test_sequence[i][k,-1,:] # !!-1 if no zero element after each chunk, otherwise -2\n",
    "                    \n",
    "                    \n",
    "            for i in range(Nseq):        \n",
    "                print(\"For sequence %s, MSE is %s\"%(seq_test[i],np.mean(MSE[:,i])))\n",
    "            \n",
    "            Error = np.zeros((len(test_sequence),ntrials))\n",
    "            Errordist = np.zeros((len(test_sequence),ntrials,dict_size-1))\n",
    "            \n",
    "            for i in range(len(test_sequence)):\n",
    "                for k in range(ntrials):\n",
    "                    yhat = Yhat[k,i,:]\n",
    "                    y = Ytrue[k,i,:]\n",
    "                    yrep = np.repeat(y[None,:],dict_size,0)\n",
    "                    target_idx = np.argmin(np.mean(abs(yrep-dictionary),1))\n",
    "                    Error[i,k] = np.mean((yhat - y)**2) # calculate mean squared error of predicted vector with ground truth\n",
    "                    yrep = np.repeat(yhat[None,:],dict_size-1,0)\n",
    "                    Errordist[i,k,:] = np.mean((yrep - np.delete(dictionary,target_idx,0))**2,1) # calculate mean squared error of predicted vector with ground truth\n",
    "                    # calculate ratio of samples equally small or smaller than sample\n",
    "                    Ratio[si,hi,li,i,k] = sum(Errordist[i,k,:]<=Error[i,k])/(dict_size-1)\n",
    "                    Acc[si,hi,li,i,k] = Error[i,k]<np.min(Errordist[i,k,])\n",
    "                    \n",
    "                ax = plt.subplot(111)\n",
    "                plt.hist(Error[i,],label='true',alpha=.6)\n",
    "                plt.hist(np.min(Errordist[i,],-1),label='other targets min',alpha=.6)\n",
    "                ax.set_title('Sequence: %s, Accuracy:%.3f, P=%.3f'%(seq_test[i],np.mean(Acc[si,hi,li,i,:]),np.mean(Ratio[si,hi,li,i,:])))\n",
    "                ax.set_xlabel('Mean squared prediction error')\n",
    "                ax.set_xlim(-0.02,3)\n",
    "                plt.ylabel('Count')\n",
    "                plt.legend()\n",
    "                plt.savefig('NIP_error_seq_%s.png'%seq_test[i])\n",
    "                plt.show()"
   ]
  },
  {
   "cell_type": "markdown",
   "metadata": {},
   "source": [
    "### Visualize grid search result"
   ]
  },
  {
   "cell_type": "code",
   "execution_count": 204,
   "metadata": {},
   "outputs": [
    {
     "data": {
      "image/png": "[encoded data removed]",
      "text/plain": [
       "<Figure size 432x288 with 4 Axes>"
      ]
     },
     "metadata": {},
     "output_type": "display_data"
    }
   ],
   "source": [
    "fig,ax = plt.subplots(1,len(test_sequence))\n",
    "for i in range(Nseq):\n",
    "    ax[i].imshow(np.mean(np.mean(Acc[:,:,i,],0),-1),vmin=.5,vmax=1)\n",
    "    idxx = np.argmax(np.max(np.mean(np.mean(Acc[:,:,i,],0),-1),0))\n",
    "    idxy = np.argmax(np.max(np.mean(np.mean(Acc[:,:,i,],0),-1),1))\n",
    "    ax[i].plot(idxx,idxy,'*w')\n",
    "    if i==0:\n",
    "        ax[i].set_yticks(np.arange(len(hidden)))\n",
    "        ax[i].set_yticklabels(hidden)\n",
    "        ax[i].set_ylabel('Hidden units per layer')\n",
    "    else:\n",
    "        ax[i].set_yticks([])\n",
    "    ax[i].set_xticks(np.arange(len(layers)))\n",
    "    ax[i].set_xticklabels(layers)\n",
    "    ax[i].set_title(seq_test[i])\n",
    "ax[0].set_xlabel('Layers')\n",
    "plt.savefig('NIP_grid_search_1.pdf')\n",
    "plt.show()"
   ]
  },
  {
   "cell_type": "markdown",
   "metadata": {},
   "source": [
    "Input size"
   ]
  },
  {
   "cell_type": "code",
   "execution_count": 241,
   "metadata": {},
   "outputs": [
    {
     "data": {
      "image/png": "[encoded data removed]",
      "text/plain": [
       "<Figure size 432x288 with 1 Axes>"
      ]
     },
     "metadata": {},
     "output_type": "display_data"
    }
   ],
   "source": [
    "ax = plt.subplot(111)\n",
    "for i in range(len(seq_test)):\n",
    "    plt.errorbar(x=input_dim,y=np.mean(Acc[:,0,0,i,:],-1),label=seq_test[i])\n",
    "#plt.xticks(np.arange(repeats),np.arange(repeats)+1)\n",
    "ax.legend()\n",
    "ax.set_xlabel('Input dimensions')\n",
    "ax.set_ylabel('Accuracy')\n",
    "plt.savefig('NIP_Accuracy_per_inputdim.pdf')\n",
    "plt.show()"
   ]
  },
  {
   "cell_type": "markdown",
   "metadata": {},
   "source": [
    "Number of chunks"
   ]
  },
  {
   "cell_type": "code",
   "execution_count": 288,
   "metadata": {},
   "outputs": [],
   "source": [
    "dictionary2 = np.random.randn(30,input_size)\n",
    "\n",
    "\n",
    "# get unique pairs of stimuli\n",
    "pairs = unique_pairs(dictionary)\n",
    "\n",
    "# create data\n",
    "repeats = 20\n",
    "Nrand = 100\n",
    "sequence = unique_pairs_sequence(seq_test,repeats,pairs)\n",
    "err = np.zeros((repeats,len(seq_test),pairs.shape[0]))\n",
    "randerr = np.zeros((repeats,len(seq_test),pairs.shape[0],Nrand))\n",
    "for k in range(repeats):\n",
    "    x = []\n",
    "    ytrue = []\n",
    "    for i in range(len(seq_test)):\n",
    "        chunk_length = len(seq_test[i])\n",
    "        x.append(torch.Tensor(sequence[i][:,:(k+1)*chunk_length-1]))\n",
    "        ytrue.append(sequence[i][:,(k+1)*chunk_length-1])\n",
    "    y,_ = predict(x,model)\n",
    "    for i in range(len(seq_test)):\n",
    "        err[k,i,:] = np.mean((y[i]-ytrue[i])**2,-1)\n",
    "        randerr[k,i,:] = np.mean((np.repeat(y[i][:,:,None],Nrand,2)-np.random.randn(pairs.shape[0],input_size,Nrand))**2,1)\n"
   ]
  },
  {
   "cell_type": "code",
   "execution_count": 293,
   "metadata": {},
   "outputs": [
    {
     "data": {
      "image/png": "[encoded data removed]",
      "text/plain": [
       "<Figure size 432x288 with 1 Axes>"
      ]
     },
     "metadata": {},
     "output_type": "display_data"
    }
   ],
   "source": [
    "# plot\n",
    "ax = plt.subplot(111)\n",
    "for i in range(len(seq_test)):\n",
    "    plt.errorbar(x=np.arange(repeats),y=np.mean(err[:,i,:],-1),label=seq_test[i])\n",
    "plt.errorbar(x=np.arange(repeats),y=np.mean(np.mean(randerr[:,i,:],-1),1),yerr=4*np.std(np.mean(randerr[:,i,:],-1),1)\n",
    "             ,label='random+4sd',color='k',alpha=.5)\n",
    "plt.xticks(np.arange(repeats),np.arange(repeats)+1)\n",
    "ax.legend()\n",
    "ax.set_xlabel('Repeats per chunk')\n",
    "ax.set_ylabel('MSE')\n",
    "plt.savefig('NIP_MSE_per_repeats.pdf')\n",
    "plt.savefig('NIP_MSE_per_repeats.png')\n",
    "plt.show()"
   ]
  },
  {
   "cell_type": "markdown",
   "metadata": {},
   "source": [
    "Plot example"
   ]
  },
  {
   "cell_type": "code",
   "execution_count": 304,
   "metadata": {},
   "outputs": [
    {
     "name": "stdout",
     "output_type": "stream",
     "text": [
      "0.17912347493511044\n",
      "1.5044394707832465\n",
      "0.5234256641211686\n",
      "1.0845178400252602\n"
     ]
    },
    {
     "data": {
      "image/png": "[encoded data removed]",
      "text/plain": [
       "<Figure size 468x331.2 with 8 Axes>"
      ]
     },
     "metadata": {},
     "output_type": "display_data"
    }
   ],
   "source": [
    "s = [[0,0,0,1]]\n",
    "N = 100\n",
    "dictionary2 = np.random.randn(10,input_size)\n",
    "pairs = unique_pairs(dictionary)\n",
    "seqc = unique_pairs_sequence(s,10,pairs)\n",
    "x = [[]]\n",
    "fig,ax = plt.subplots(len(s[0]),2,figsize=(6.5,4.60), gridspec_kw={'width_ratios': [50, 1]})\n",
    "j = 1\n",
    "for i in range(len(s[0])):\n",
    "    # generate sequence\n",
    "    \n",
    "    if i<len(s[0])-1:\n",
    "        x[0]= torch.Tensor(seqc[0][:,:-len(s[0])+i])\n",
    "    else:\n",
    "        x[0]= torch.Tensor(seqc[0][:,:-1])\n",
    "    y,h = predict(x,model)\n",
    "    \n",
    "    ax[i,0].imshow(x[0][j,:,:10].T)\n",
    "    ax[i,0].set_xlim(0,seqc[0].shape[1]-.5)\n",
    "    ax[i,1].imshow(y[0][j,None,:10].T)\n",
    "    ax[i,0].set_xticks([])\n",
    "    ax[i,1].set_xticks([])\n",
    "    ax[i,0].set_yticks([])\n",
    "    ax[i,1].set_yticks([])\n",
    "    mse = np.mean((y[0][j,:]- seqc[0][j,-len(s[0])+i+1])**2)\n",
    "    print(mse)\n",
    "    if i==0:\n",
    "        ax[i,0].set_title('Sequence')\n",
    "        ax[i,1].set_title('Next')\n",
    "#plt.savefig('NIP_example_evaluation2.png')\n",
    "#plt.savefig('NIP_example_evaluation2.pdf')\n",
    "plt.show()"
   ]
  },
  {
   "cell_type": "markdown",
   "metadata": {},
   "source": [
    "## Regression:\n",
    "find vectors in hidden layer that encode currrent same/different and prediction"
   ]
  },
  {
   "cell_type": "code",
   "execution_count": 245,
   "metadata": {
    "scrolled": false
   },
   "outputs": [
    {
     "data": {
      "image/png": "[encoded data removed]",
      "text/plain": [
       "<Figure size 432x288 with 1 Axes>"
      ]
     },
     "metadata": {},
     "output_type": "display_data"
    },
    {
     "data": {
      "image/png": "[encoded data removed]",
      "text/plain": [
       "<Figure size 432x288 with 1 Axes>"
      ]
     },
     "metadata": {},
     "output_type": "display_data"
    }
   ],
   "source": [
    "from sklearn.linear_model import LogisticRegression\n",
    "\n",
    "seqs = [[0,0,0,0],[0,0,0,1]]\n",
    "pairs = unique_pairs(dictionary)\n",
    "unique_seq = unique_pairs_sequence(seqs,repeats=10,pairs=pairs)\n",
    "\n",
    "# to torch\n",
    "torch_seq = []\n",
    "for i,s in enumerate(unique_seq):\n",
    "    torch_seq.append(torch.Tensor(s))\n",
    "# pass through network\n",
    "\n",
    "layer = 0 # which layer to use for regression\n",
    "y,h = predict(torch_seq,model)\n",
    "Nseq = len(unique_seq)\n",
    "n_pairs = pairs.shape[0] \n",
    "n_stim = dictionary.shape[0]\n",
    "# leave one out cross validation\n",
    "score = np.zeros(n_stim)\n",
    "Coef = np.zeros((n_stim,n_hidden))\n",
    "for i in range(n_stim):\n",
    "    testind = np.arange(i*(n_stim-1),(i+1)*(n_stim-1))\n",
    "    ind = np.delete(np.arange(n_pairs),testind) # remove test indices from training data\n",
    "    # local deviant items, \n",
    "    ################# NOTE: HARD CODED\n",
    "    Xtest = h[1][layer][testind].detach().numpy()\n",
    "    Xtrain = h[1][layer][ind].detach().numpy()\n",
    "    # add local standard sequences at random\n",
    "    local_std = h[0][layer][ind].detach().numpy()\n",
    "    Xtrain = np.concatenate((Xtrain,local_std))\n",
    "    # for test data\n",
    "    local_std = h[0][layer][testind].detach().numpy()\n",
    "    Xtest = np.concatenate((Xtest,local_std))\n",
    "    \n",
    "    ytrain = np.concatenate((np.ones(len(ind)),np.zeros(len(ind))))\n",
    "    ytest = np.concatenate((np.ones(len(testind)),np.zeros(len(testind))))\n",
    "\n",
    "    reg_local = LogisticRegression(solver='lbfgs',max_iter=1000).fit(Xtrain,ytrain)\n",
    "    yhat_local = reg_local.predict(Xtest)\n",
    "    score[i] = reg_local.score(Xtest,ytest)\n",
    "    Coef[i,] = reg_local.coef_\n",
    "    \n",
    "plt.hist(score,color='k')\n",
    "plt.xlim(0,1)\n",
    "plt.xticks([0,.5,1])\n",
    "plt.xlabel('Accuracy (current=change)')\n",
    "plt.yticks([])\n",
    "plt.title('Mean accuracy: %.2f'%np.mean(score))\n",
    "plt.savefig('NIP_decoder_current_hist.pdf')\n",
    "plt.show()# \n"
   ]
  },
  {
   "cell_type": "markdown",
   "metadata": {},
   "source": [
    "## Regression: next stimulus change"
   ]
  },
  {
   "cell_type": "code",
   "execution_count": 246,
   "metadata": {},
   "outputs": [
    {
     "data": {
      "image/png": "[encoded data removed]",
      "text/plain": [
       "<Figure size 432x288 with 1 Axes>"
      ]
     },
     "metadata": {},
     "output_type": "display_data"
    },
    {
     "data": {
      "image/png": "[encoded data removed]",
      "text/plain": [
       "<Figure size 432x288 with 1 Axes>"
      ]
     },
     "metadata": {},
     "output_type": "display_data"
    }
   ],
   "source": [
    "seqs = [[0,0,0,0],[0,0,0,1]]# can't be changed!!\n",
    "pairs = unique_pairs(dictionary)\n",
    "unique_seq = unique_pairs_sequence(seqs,repeats=10,pairs=pairs)\n",
    "\n",
    "# to torch\n",
    "torch_seq = []\n",
    "for i,s in enumerate(unique_seq):\n",
    "    torch_seq.append(torch.Tensor(s[:,:-1,:]))\n",
    "# pass through network\n",
    "\n",
    "layer = 0 # which layer to use for regression\n",
    "y,h = predict(torch_seq,model)\n",
    "Nseq = len(unique_seq)\n",
    "n_pairs = pairs.shape[0] \n",
    "n_stim = dictionary.shape[0]\n",
    "# leave one out cross validation\n",
    "score = np.zeros(n_stim)\n",
    "Coef = np.zeros((n_stim,n_hidden))\n",
    "for i in range(n_stim):\n",
    "    testind = np.arange(i*(n_stim-1),(i+1)*(n_stim-1))\n",
    "    ind = np.delete(np.arange(n_pairs),testind) # remove test indices from training data\n",
    "    # local deviant items, \n",
    "    ################# NOTE: HARD CODED\n",
    "    Xtest = h[1][layer][testind].detach().numpy()\n",
    "    Xtrain = h[1][layer][ind].detach().numpy()\n",
    "    # add local standard sequences at random\n",
    "    local_std = h[0][layer][ind].detach().numpy()\n",
    "    Xtrain = np.concatenate((Xtrain,local_std))\n",
    "    # for test data\n",
    "    local_std = h[0][layer][testind].detach().numpy()\n",
    "    Xtest = np.concatenate((Xtest,local_std))\n",
    "    \n",
    "    ytrain = np.concatenate((np.ones(len(ind)),np.zeros(len(ind))))\n",
    "    ytest = np.concatenate((np.ones(len(testind)),np.zeros(len(testind))))\n",
    "\n",
    "    reg_local = LogisticRegression(solver='lbfgs',max_iter=1000).fit(Xtrain,ytrain)\n",
    "    yhat_local = reg_local.predict(Xtest)\n",
    "    score[i] = reg_local.score(Xtest,ytest)\n",
    "    Coef[i,] = reg_local.coef_\n",
    "    \n",
    "    #ax = plt.subplot(111)\n",
    "    #ax.imshow(Xtrain.T)\n",
    "    #ax.set_xticks([])\n",
    "    #ax.set_yticks([1,100])\n",
    "    #plt.show()\n",
    "#\n",
    "plt.hist(score,color='k')\n",
    "plt.xlim(0,1)\n",
    "plt.xticks([0,.5,1])\n",
    "plt.title('Mean accuracy: %.2f'%np.mean(score))\n",
    "plt.xlabel('Accuracy (next=change)')\n",
    "plt.yticks([])\n",
    "plt.savefig('NIP_decoder_next_hist.pdf')\n",
    "plt.show()#    \n"
   ]
  },
  {
   "cell_type": "markdown",
   "metadata": {},
   "source": [
    "## Multinomial logistic regression for repetition number"
   ]
  },
  {
   "cell_type": "code",
   "execution_count": 263,
   "metadata": {
    "scrolled": true
   },
   "outputs": [
    {
     "name": "stdout",
     "output_type": "stream",
     "text": [
      "[0 1 2 3 4 5 6 7 8]\n",
      "[ 9 10 11 12 13 14 15 16 17]\n",
      "[18 19 20 21 22 23 24 25 26]\n",
      "[27 28 29 30 31 32 33 34 35]\n",
      "[36 37 38 39 40 41 42 43 44]\n",
      "[45 46 47 48 49 50 51 52 53]\n",
      "[54 55 56 57 58 59 60 61 62]\n",
      "[63 64 65 66 67 68 69 70 71]\n",
      "[72 73 74 75 76 77 78 79 80]\n",
      "[81 82 83 84 85 86 87 88 89]\n",
      "0.2111111111111111\n"
     ]
    },
    {
     "data": {
      "image/png": "[encoded data removed]",
      "text/plain": [
       "<Figure size 432x288 with 1 Axes>"
      ]
     },
     "metadata": {},
     "output_type": "display_data"
    }
   ],
   "source": [
    "from sklearn.linear_model import LogisticRegression\n",
    "layer = 0\n",
    "\n",
    "s = [[0,0,0,1]]\n",
    "count = [0,1,2,1] # training data needs to be balanced!\n",
    "test_pc = .2\n",
    "\n",
    "n_pairs = pairs.shape[0]\n",
    "######## leave one stimulus out cross-validation\n",
    "Acc = []\n",
    "Prob = np.zeros((n_pairs,len(s[0]),max(count)+1))\n",
    "for k in range(n_stim): # n_pairs\n",
    "    testind = np.arange(k*(n_stim-1),(k+1)*(n_stim-1)) #k\n",
    "    \n",
    "    ind = np.delete(np.arange(n_pairs),testind)\n",
    "    print(testind)\n",
    "    Y = []\n",
    "    X = []\n",
    "    Ytest = []\n",
    "    Xtest = []\n",
    "    # generate sequence\n",
    "    seq = unique_pairs_sequence(s,10,pairs)\n",
    "    for i in range(len(s[0])):\n",
    "        \n",
    "        if i<len(s[0])-1:\n",
    "            x[0]= torch.Tensor(seq[0][:,:-len(s[0])+i+1])\n",
    "        else:\n",
    "            x[0]= torch.Tensor(seq[0])\n",
    "        # get network activation\n",
    "        y,h = predict(x,model)\n",
    "        Y.extend(count[-len(s[0])+i]*np.ones(len(ind)))\n",
    "        X.append(h[0][layer][ind,:].detach().numpy())\n",
    "        Ytest.extend(count[-len(s[0])+i]*np.ones(len(testind)))\n",
    "        Xtest.append(h[0][layer][testind,:].detach().numpy())\n",
    "    X = np.concatenate(X)\n",
    "    Y = np.array(Y)\n",
    "    Xtest = np.concatenate(Xtest)\n",
    "    Ytest = np.array(Ytest)\n",
    "\n",
    "\n",
    "    reg = LogisticRegression(solver='lbfgs',multi_class='auto',max_iter=1000).fit(X,Y)\n",
    "    acc = reg.score(Xtest,Ytest)\n",
    "    \n",
    "    Acc.append(acc)\n",
    "    \n",
    "    \n",
    "    xlabel = []\n",
    "    string = ['X','Y']\n",
    "    for i in range(len(s[0])):\n",
    "        # generate sequence\n",
    "        if i<len(s[0])-1:\n",
    "            x[0]= torch.Tensor(seq[0][:,:-len(s[0])+i+1])\n",
    "        else:\n",
    "            x[0]= torch.Tensor(seq[0])\n",
    "        # get network activation\n",
    "        y,h = predict(x,model)\n",
    "        \n",
    "        Prob[testind,i,:] = reg.predict_proba(h[0][layer][testind,:].detach().numpy())\n",
    "        #xlabel.append(string[s[0][-len(s[0])+i]])\n",
    "print(np.mean(Acc))\n",
    "\n",
    "ax = plt.subplot(111)\n",
    "for i in range(max(count)+1):\n",
    "    \n",
    "    ax.errorbar(np.arange(len(s[0])),np.mean(Prob[:,:,i],0),np.std(Prob[:,:,i],0)/np.sqrt(n_pairs),\n",
    "               label = \"Position %s\"%(i+1))\n",
    "#ax.set_ylim(0,1)\n",
    "ax.set_xticks(np.arange(len(s[0])))\n",
    "ax.set_xticklabels(xlabel)\n",
    "plt.xlabel('Event')\n",
    "plt.title('Tracking ordinal structure in RNN ')\n",
    "plt.ylabel('Probability')\n",
    "plt.legend()\n",
    "ax.spines['top'].set_visible(False)\n",
    "ax.spines['right'].set_visible(False)\n",
    "plt.savefig('OrdinalStructure_seq%s.png'%(s[0]))\n",
    "plt.show()"
   ]
  },
  {
   "cell_type": "code",
   "execution_count": 457,
   "metadata": {},
   "outputs": [
    {
     "data": {
      "text/plain": [
       "2"
      ]
     },
     "execution_count": 457,
     "metadata": {},
     "output_type": "execute_result"
    }
   ],
   "source": []
  },
  {
   "cell_type": "code",
   "execution_count": null,
   "metadata": {},
   "outputs": [],
   "source": []
  }
 ],
 "metadata": {
  "kernelspec": {
   "display_name": "Python 3",
   "language": "python",
   "name": "python3"
  },
  "language_info": {
   "codemirror_mode": {
    "name": "ipython",
    "version": 3
   },
   "file_extension": ".py",
   "mimetype": "text/x-python",
   "name": "python",
   "nbconvert_exporter": "python",
   "pygments_lexer": "ipython3",
   "version": "3.6.5"
  }
 },
 "nbformat": 4,
 "nbformat_minor": 2
}
